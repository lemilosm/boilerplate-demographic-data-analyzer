{
 "cells": [
  {
   "cell_type": "code",
   "execution_count": 2,
   "metadata": {},
   "outputs": [],
   "source": [
    "import pandas as pd"
   ]
  },
  {
   "cell_type": "code",
   "execution_count": 3,
   "metadata": {},
   "outputs": [],
   "source": [
    "# Read data from file\n",
    "df = pd.read_csv('adult.data.csv')"
   ]
  },
  {
   "cell_type": "code",
   "execution_count": 10,
   "metadata": {},
   "outputs": [
    {
     "name": "stdout",
     "output_type": "stream",
     "text": [
      "<class 'pandas.core.frame.DataFrame'>\n",
      "RangeIndex: 32561 entries, 0 to 32560\n",
      "Data columns (total 15 columns):\n",
      " #   Column          Non-Null Count  Dtype \n",
      "---  ------          --------------  ----- \n",
      " 0   age             32561 non-null  int64 \n",
      " 1   workclass       32561 non-null  object\n",
      " 2   fnlwgt          32561 non-null  int64 \n",
      " 3   education       32561 non-null  object\n",
      " 4   education-num   32561 non-null  int64 \n",
      " 5   marital-status  32561 non-null  object\n",
      " 6   occupation      32561 non-null  object\n",
      " 7   relationship    32561 non-null  object\n",
      " 8   race            32561 non-null  object\n",
      " 9   sex             32561 non-null  object\n",
      " 10  capital-gain    32561 non-null  int64 \n",
      " 11  capital-loss    32561 non-null  int64 \n",
      " 12  hours-per-week  32561 non-null  int64 \n",
      " 13  native-country  32561 non-null  object\n",
      " 14  salary          32561 non-null  object\n",
      "dtypes: int64(6), object(9)\n",
      "memory usage: 3.7+ MB\n"
     ]
    }
   ],
   "source": [
    "df.info()"
   ]
  },
  {
   "cell_type": "code",
   "execution_count": 119,
   "metadata": {},
   "outputs": [
    {
     "data": {
      "text/html": [
       "<div>\n",
       "<style scoped>\n",
       "    .dataframe tbody tr th:only-of-type {\n",
       "        vertical-align: middle;\n",
       "    }\n",
       "\n",
       "    .dataframe tbody tr th {\n",
       "        vertical-align: top;\n",
       "    }\n",
       "\n",
       "    .dataframe thead th {\n",
       "        text-align: right;\n",
       "    }\n",
       "</style>\n",
       "<table border=\"1\" class=\"dataframe\">\n",
       "  <thead>\n",
       "    <tr style=\"text-align: right;\">\n",
       "      <th></th>\n",
       "      <th>age</th>\n",
       "      <th>workclass</th>\n",
       "      <th>fnlwgt</th>\n",
       "      <th>education</th>\n",
       "      <th>education-num</th>\n",
       "      <th>marital-status</th>\n",
       "      <th>occupation</th>\n",
       "      <th>relationship</th>\n",
       "      <th>race</th>\n",
       "      <th>sex</th>\n",
       "      <th>capital-gain</th>\n",
       "      <th>capital-loss</th>\n",
       "      <th>hours-per-week</th>\n",
       "      <th>native-country</th>\n",
       "      <th>salary</th>\n",
       "    </tr>\n",
       "  </thead>\n",
       "  <tbody>\n",
       "    <tr>\n",
       "      <th>0</th>\n",
       "      <td>39</td>\n",
       "      <td>State-gov</td>\n",
       "      <td>77516</td>\n",
       "      <td>Bachelors</td>\n",
       "      <td>13</td>\n",
       "      <td>Never-married</td>\n",
       "      <td>Adm-clerical</td>\n",
       "      <td>Not-in-family</td>\n",
       "      <td>White</td>\n",
       "      <td>Male</td>\n",
       "      <td>2174</td>\n",
       "      <td>0</td>\n",
       "      <td>40</td>\n",
       "      <td>United-States</td>\n",
       "      <td>&lt;=50K</td>\n",
       "    </tr>\n",
       "    <tr>\n",
       "      <th>1</th>\n",
       "      <td>50</td>\n",
       "      <td>Self-emp-not-inc</td>\n",
       "      <td>83311</td>\n",
       "      <td>Bachelors</td>\n",
       "      <td>13</td>\n",
       "      <td>Married-civ-spouse</td>\n",
       "      <td>Exec-managerial</td>\n",
       "      <td>Husband</td>\n",
       "      <td>White</td>\n",
       "      <td>Male</td>\n",
       "      <td>0</td>\n",
       "      <td>0</td>\n",
       "      <td>13</td>\n",
       "      <td>United-States</td>\n",
       "      <td>&lt;=50K</td>\n",
       "    </tr>\n",
       "  </tbody>\n",
       "</table>\n",
       "</div>"
      ],
      "text/plain": [
       "   age         workclass  fnlwgt  education  education-num  \\\n",
       "0   39         State-gov   77516  Bachelors             13   \n",
       "1   50  Self-emp-not-inc   83311  Bachelors             13   \n",
       "\n",
       "       marital-status       occupation   relationship   race   sex  \\\n",
       "0       Never-married     Adm-clerical  Not-in-family  White  Male   \n",
       "1  Married-civ-spouse  Exec-managerial        Husband  White  Male   \n",
       "\n",
       "   capital-gain  capital-loss  hours-per-week native-country salary  \n",
       "0          2174             0              40  United-States  <=50K  \n",
       "1             0             0              13  United-States  <=50K  "
      ]
     },
     "execution_count": 119,
     "metadata": {},
     "output_type": "execute_result"
    }
   ],
   "source": [
    "df.head(2)"
   ]
  },
  {
   "cell_type": "code",
   "execution_count": 27,
   "metadata": {},
   "outputs": [
    {
     "data": {
      "text/plain": [
       "array(['age', 'workclass', 'fnlwgt', 'education', 'education-num',\n",
       "       'marital-status', 'occupation', 'relationship', 'race', 'sex',\n",
       "       'capital-gain', 'capital-loss', 'hours-per-week', 'native-country',\n",
       "       'salary'], dtype=object)"
      ]
     },
     "execution_count": 27,
     "metadata": {},
     "output_type": "execute_result"
    }
   ],
   "source": [
    "df.columns.values"
   ]
  },
  {
   "cell_type": "code",
   "execution_count": 104,
   "metadata": {},
   "outputs": [
    {
     "data": {
      "text/plain": [
       "Index(['United-States', 'Mexico', '?', 'Philippines', 'Germany', 'Canada',\n",
       "       'Puerto-Rico', 'El-Salvador', 'India', 'Cuba', 'England', 'Jamaica',\n",
       "       'South', 'China', 'Italy', 'Dominican-Republic', 'Vietnam', 'Guatemala',\n",
       "       'Japan', 'Poland', 'Columbia', 'Taiwan', 'Haiti', 'Iran', 'Portugal',\n",
       "       'Nicaragua', 'Peru', 'France', 'Greece', 'Ecuador', 'Ireland', 'Hong',\n",
       "       'Cambodia', 'Trinadad&Tobago', 'Laos', 'Thailand', 'Yugoslavia',\n",
       "       'Outlying-US(Guam-USVI-etc)', 'Honduras', 'Hungary', 'Scotland',\n",
       "       'Holand-Netherlands'],\n",
       "      dtype='object', name='native-country')"
      ]
     },
     "execution_count": 104,
     "metadata": {},
     "output_type": "execute_result"
    }
   ],
   "source": [
    "df_country_salary_totals.index"
   ]
  },
  {
   "cell_type": "code",
   "execution_count": 13,
   "metadata": {},
   "outputs": [
    {
     "data": {
      "text/plain": [
       "array(['<=50K', '>50K'], dtype=object)"
      ]
     },
     "execution_count": 13,
     "metadata": {},
     "output_type": "execute_result"
    }
   ],
   "source": [
    "df.salary.unique()"
   ]
  },
  {
   "cell_type": "code",
   "execution_count": 56,
   "metadata": {},
   "outputs": [
    {
     "data": {
      "text/plain": [
       "'Prof-specialty'"
      ]
     },
     "execution_count": 56,
     "metadata": {},
     "output_type": "execute_result"
    }
   ],
   "source": [
    "df[df['salary'] == '>50K']\n",
    "df[( df['salary'] == '>50K') & (df['native-country'] == 'India') ]['occupation'].value_counts(ascending=False).index[0]\n"
   ]
  },
  {
   "cell_type": "code",
   "execution_count": 48,
   "metadata": {},
   "outputs": [
    {
     "data": {
      "text/plain": [
       "0.625"
      ]
     },
     "execution_count": 48,
     "metadata": {},
     "output_type": "execute_result"
    }
   ],
   "source": [
    "25/40"
   ]
  },
  {
   "cell_type": "code",
   "execution_count": 57,
   "metadata": {},
   "outputs": [
    {
     "name": "stdout",
     "output_type": "stream",
     "text": [
      "Number of each race:\n",
      " race\n",
      "White                 27816\n",
      "Black                  3124\n",
      "Asian-Pac-Islander     1039\n",
      "Amer-Indian-Eskimo      311\n",
      "Other                   271\n",
      "Name: count, dtype: int64\n",
      "Average age of men: 39.4\n",
      "Percentage with Bachelors degrees: 16.4%\n",
      "Percentage with higher education that earn >50K: 46.5%\n",
      "Percentage without higher education that earn >50K: 17.4%\n",
      "Min work time: 1 hours/week\n",
      "Percentage of rich among those who work fewest hours: 10%\n",
      "Country with highest percentage of rich: Iran\n",
      "Highest percentage of rich people in country: 41.9%\n",
      "Top occupations in India: Prof-specialty\n"
     ]
    }
   ],
   "source": [
    "# How many of each race are represented in this dataset? Thi\n",
    "race_count = df.race.value_counts()\n",
    "\n",
    "# What is the average age of men?\n",
    "average_age_men = round( df.age[df.sex == 'Male'].mean() , 1)\n",
    "# What is the percentage of people who have a Bachelor's deg\n",
    "percentage_bachelors = round( 100 * df.education[ (df.education == 'Bachelors') ].count() / len(df) , 1  )\n",
    "# What percentage of people with advanced education (`Bachelors`, `Masters`, or `Doctorate`) make more than 50K?\n",
    "# What percentage of people without advanced education make more than 50K?\n",
    "# with and without `Bachelors`, `Masters`, or `Doctorate`\n",
    "higher_education = df.education[ (df.education == 'Bachelors') | (df.education == 'Masters') | (df.education == 'Doctorate')]\n",
    "#this is much more elegant:   df.education[df.education.isin(['Bachelors','Masters','Doctorate'])].count()\n",
    "lower_education = df.education[ ~((df.education == 'Bachelors') | (df.education == 'Masters') | (df.education == 'Doctorate'))]\n",
    "# percentage with salary >50K\n",
    "# higher_education_rich = round (df.education[  (df.salary == '>50K') & ( (df.education == 'Bachelors') | (df.education == 'Masters') | (df.education == 'Doctorate') ) ].count() / len(df)   , 1)\n",
    "higher_education_rich = round (100* higher_education[(df.salary == '>50K')].count() / len(higher_education)   , 1)\n",
    "\n",
    "lower_education_rich = round (100* lower_education[(df.salary == '>50K')].count() / len(lower_education)   , 1)\n",
    "# What is the minimum number of hours a person works per wee\n",
    "min_work_hours = df['hours-per-week'].min()\n",
    "# What percentage of the people who work the minimum number of hours per week have a salary of >50K? \n",
    "num_min_workers = len(df[df['hours-per-week'] == min_work_hours ])\n",
    "num_min_workers_rich = len( df[ (df['hours-per-week'] == min_work_hours)  &  (df.salary == '>50K') ]  )\n",
    "rich_percentage = round(100*num_min_workers_rich/num_min_workers)   #this was not rounded to two decimals as the test module\\\n",
    "# has  expected = 10   , with no decimals\n",
    "# What country has the highest percentage of people that earn >50K?\n",
    "df_country_salary_totals = df['native-country'].value_counts().to_frame()\n",
    "df_country_salary_rich = df['native-country'][df.salary == '>50K'].value_counts().to_frame()\n",
    "df_country_salary_rich = df_country_salary_rich.rename( columns={'count':'count_rich'})\n",
    "df_country_salaries_proportions = pd.concat( [df_country_salary_rich,df_country_salary_totals], axis=1, ignore_index=False)\n",
    "df_country_salaries_proportions['rich_total_ratio'] = df_country_salaries_proportions['count_rich'] / df_country_salaries_proportions['count']\n",
    "\n",
    "highest_earning_country = df_country_salaries_proportions.loc\\\n",
    "    [df_country_salaries_proportions.rich_total_ratio == df_country_salaries_proportions.rich_total_ratio.max()].index.values[0]\n",
    "highest_earning_country_percentage = round( 100 * df_country_salaries_proportions.rich_total_ratio.max() ,1 )\n",
    "# Identify the most popular occupation for those who earn >5\n",
    "top_IN_occupation = df[( df['salary'] == '>50K') & (df['native-country'] == 'India') ]\\\n",
    "    ['occupation'].value_counts(ascending=False).index[0]\n",
    "# DO NOT MODIFY BELOW THIS LINE\n",
    "print_data=True\n",
    "if print_data:\n",
    "    print(\"Number of each race:\\n\", race_count) \n",
    "    print(\"Average age of men:\", average_age_men)\n",
    "    print(f\"Percentage with Bachelors degrees: {percentage_bachelors}%\")\n",
    "    print(f\"Percentage with higher education that earn >50K: {higher_education_rich}%\")\n",
    "    print(f\"Percentage without higher education that earn >50K: {lower_education_rich}%\")\n",
    "    print(f\"Min work time: {min_work_hours} hours/week\")\n",
    "    print(f\"Percentage of rich among those who work fewest hours: {rich_percentage}%\")\n",
    "    print(\"Country with highest percentage of rich:\", highest_earning_country)\n",
    "    print(f\"Highest percentage of rich people in country: {highest_earning_country_percentage}%\")\n",
    "    print(\"Top occupations in India:\", top_IN_occupation)"
   ]
  }
 ],
 "metadata": {
  "kernelspec": {
   "display_name": "Python 3",
   "language": "python",
   "name": "python3"
  },
  "language_info": {
   "codemirror_mode": {
    "name": "ipython",
    "version": 3
   },
   "file_extension": ".py",
   "mimetype": "text/x-python",
   "name": "python",
   "nbconvert_exporter": "python",
   "pygments_lexer": "ipython3",
   "version": "3.9.16"
  }
 },
 "nbformat": 4,
 "nbformat_minor": 2
}
